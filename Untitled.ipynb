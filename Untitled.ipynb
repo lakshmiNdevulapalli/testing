{
 "cells": [
  {
   "cell_type": "code",
   "execution_count": 3,
   "metadata": {},
   "outputs": [],
   "source": [
    "class directedGraph(object):\n",
    "    def __init__(self, graph=None):\n",
    "        if graph == None:\n",
    "            graph = {}\n",
    "        self.__graph = graph\n",
    "        \n",
    "    def addNode(self, node):\n",
    "        if node not in self.__graph:\n",
    "            self.__graph[node] = []\n",
    "    \n",
    "    def addEdge(self, edge):\n",
    "        edge = set(edge)\n",
    "        (node1, node2) = tuple(edge)\n",
    "        if node1 not in self.__graph:\n",
    "            self.__graph[node1].append[node2]\n",
    "        else:\n",
    "            self.__graph[node1] = [node2]\n",
    "    \n",
    "    def nodes(self):\n",
    "        return list(self.__graph.keys())\n",
    "    \n",
    "    def edges(self):\n",
    "        edge = set(edge)\n",
    "        for node in self.__graph:\n",
    "            for neighbour in self.__graph[node]:\n",
    "                if(node, neighbour) not in edges:\n",
    "                    edges.append((node, neighbour))\n",
    "        return edges\n",
    "    \n",
    "    def __str__(self):\n",
    "        res = \"nodes: \"\n",
    "        for node in self.nodes():\n",
    "            res += str(node) + \" \"\n",
    "        res = \"\\nedges: \"\n",
    "        for edges in self.edges():\n",
    "            res += str(edges) + \" \"\n",
    "        print(res)\n",
    "        return res\n",
    "    "
   ]
  },
  {
   "cell_type": "code",
   "execution_count": 4,
   "metadata": {},
   "outputs": [],
   "source": [
    "graph = {\n",
    "    \"A\" : [\"B\", \"C\", \"E\", \"F\"],\n",
    "          \"B\" : [\"E\", \"G\"],\n",
    "          \"C\" : [\"E\", \"B\", \"D\"],\n",
    "          \"D\" : [\"G\", \"F\", \"E\"],\n",
    "          \"E\" : [\"F\"],\n",
    "          \"F\" : [\"A\"],\n",
    "          \"G\" : [\"D\"]\n",
    "}\n",
    "\n",
    "g = directedGraph(graph)"
   ]
  }
 ],
 "metadata": {
  "kernelspec": {
   "display_name": "Python 3",
   "language": "python",
   "name": "python3"
  },
  "language_info": {
   "codemirror_mode": {
    "name": "ipython",
    "version": 3
   },
   "file_extension": ".py",
   "mimetype": "text/x-python",
   "name": "python",
   "nbconvert_exporter": "python",
   "pygments_lexer": "ipython3",
   "version": "3.7.0"
  }
 },
 "nbformat": 4,
 "nbformat_minor": 2
}
